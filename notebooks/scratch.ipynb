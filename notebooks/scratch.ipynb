{
 "cells": [
  {
   "cell_type": "code",
   "execution_count": 1,
   "metadata": {},
   "outputs": [],
   "source": [
    "import numpy as np\n",
    "from scipy.linalg import block_diag, null_space\n",
    "from lie_groups import su2, so31\n",
    "from lie_groups.util import comm"
   ]
  },
  {
   "cell_type": "code",
   "execution_count": 2,
   "metadata": {},
   "outputs": [
    {
     "data": {
      "text/plain": [
       "array([[0.+0.j, 0.+0.j, 0.+0.j, 0.+0.j],\n",
       "       [0.+0.j, 0.+0.j, 0.+0.j, 0.+0.j],\n",
       "       [0.+0.j, 0.+0.j, 0.+0.j, 0.+0.j],\n",
       "       [0.+0.j, 0.+0.j, 0.+0.j, 0.+0.j]])"
      ]
     },
     "execution_count": 2,
     "metadata": {},
     "output_type": "execute_result"
    }
   ],
   "source": [
    "comm(so31.Jp(1), so31.Jp(2)) - so31.Jp(3)"
   ]
  },
  {
   "cell_type": "code",
   "execution_count": 3,
   "metadata": {},
   "outputs": [
    {
     "data": {
      "text/plain": [
       "array([[0.+0.j, 0.+0.j, 0.+0.j, 0.+0.j],\n",
       "       [0.+0.j, 0.+0.j, 0.+0.j, 0.+0.j],\n",
       "       [0.+0.j, 0.+0.j, 0.+0.j, 0.+0.j],\n",
       "       [0.+0.j, 0.+0.j, 0.+0.j, 0.+0.j]])"
      ]
     },
     "execution_count": 3,
     "metadata": {},
     "output_type": "execute_result"
    }
   ],
   "source": [
    "comm(so31.Jp(1), so31.Jm(2))"
   ]
  },
  {
   "cell_type": "code",
   "execution_count": 4,
   "metadata": {},
   "outputs": [],
   "source": [
    "def proj(X, e):\n",
    "    return (e.conj() * X).sum() / (e.conj() * e).sum()"
   ]
  },
  {
   "cell_type": "code",
   "execution_count": 5,
   "metadata": {},
   "outputs": [],
   "source": [
    "def vector_rep(X):\n",
    "    \"\"\"(1/2, 1/2) rep of so(3, 1)\"\"\"\n",
    "    def proj(X, e):\n",
    "        return (e.conj() * X).sum() / (e.conj() * e).sum()\n",
    "\n",
    "    basis_in = []\n",
    "    basis_out = []\n",
    "    for i in range(1, 4):\n",
    "        basis_in.append(so31.Jp(i))\n",
    "        basis_out.append(np.kron(su2.S(i), np.eye(2)))\n",
    "        basis_in.append(so31.Jm(i))\n",
    "        basis_out.append(np.kron(np.eye(2), su2.S(i)))\n",
    "\n",
    "    coefs = [proj(X, e) for e in basis_in]\n",
    "    return np.sum([c * e for c, e in zip(coefs, basis_out)], axis=0)\n"
   ]
  },
  {
   "cell_type": "code",
   "execution_count": 7,
   "metadata": {},
   "outputs": [
    {
     "data": {
      "text/plain": [
       "array([[0.+0.j , 0.-0.5j, 0.-0.5j, 0.+0.j ],\n",
       "       [0.-0.5j, 0.+0.j , 0.+0.j , 0.-0.5j],\n",
       "       [0.-0.5j, 0.+0.j , 0.+0.j , 0.-0.5j],\n",
       "       [0.+0.j , 0.-0.5j, 0.-0.5j, 0.+0.j ]])"
      ]
     },
     "execution_count": 7,
     "metadata": {},
     "output_type": "execute_result"
    }
   ],
   "source": [
    "vector_rep(so31.J1)"
   ]
  },
  {
   "cell_type": "code",
   "execution_count": 8,
   "metadata": {},
   "outputs": [
    {
     "data": {
      "text/plain": [
       "array([[0.-1.j, 0.+0.j, 0.+0.j, 0.+0.j],\n",
       "       [0.+0.j, 0.+0.j, 0.+0.j, 0.+0.j],\n",
       "       [0.+0.j, 0.+0.j, 0.+0.j, 0.+0.j],\n",
       "       [0.+0.j, 0.+0.j, 0.+0.j, 0.+1.j]])"
      ]
     },
     "execution_count": 8,
     "metadata": {},
     "output_type": "execute_result"
    }
   ],
   "source": [
    "vector_rep(so31.J3)"
   ]
  },
  {
   "cell_type": "code",
   "execution_count": 35,
   "metadata": {},
   "outputs": [],
   "source": [
    "def solve_equivalence(elts1, elts2):\n",
    "    \"\"\"Solves for an equivalence of representations.\n",
    "    \n",
    "    Specifically compute the set of matrices S such that SA = BS\n",
    "    for each (A, B) in zip(elts1, elts2). Any such invertible matrix\n",
    "    gives an isomorphism of the representations.\n",
    "    \"\"\"\n",
    "    dim = len(elts1[0])\n",
    "    blocks = []\n",
    "    for a, b in zip(elts1, elts2):\n",
    "        blocks.append(np.kron(np.eye(dim), a.T) - np.kron(b, np.eye(dim)))\n",
    "    return null_space(np.concatenate(blocks, axis=0), rcond=1e-10).reshape(-1, dim, dim)"
   ]
  },
  {
   "cell_type": "code",
   "execution_count": 39,
   "metadata": {},
   "outputs": [
    {
     "data": {
      "text/plain": [
       "array([[-0.+0.j,  1.+0.j,  0.-1.j,  0.+0.j],\n",
       "       [ 1.+0.j, -0.+0.j, -0.+0.j, -1.+0.j],\n",
       "       [-1.+0.j,  0.-0.j, -0.+0.j, -1.+0.j],\n",
       "       [ 0.-0.j, -1.+0.j,  0.-1.j,  0.+0.j]])"
      ]
     },
     "metadata": {},
     "output_type": "display_data"
    }
   ],
   "source": [
    "elts = [so31.J1, so31.J2, so31.K1]\n",
    "rep = [vector_rep(e) for e in elts]\n",
    "S = solve_equivalence(elts, rep).round(4)[0]\n",
    "S /= S.ravel()[np.abs(S).argmax()]\n",
    "display(S)"
   ]
  },
  {
   "cell_type": "code",
   "execution_count": 29,
   "metadata": {},
   "outputs": [
    {
     "data": {
      "text/plain": [
       "array([[0.+0.j, 0.+0.j, 0.+0.j, 0.+0.j],\n",
       "       [0.+0.j, 0.+0.j, 0.+0.j, 0.+0.j],\n",
       "       [0.+0.j, 0.+0.j, 0.+0.j, 0.+0.j],\n",
       "       [0.+0.j, 0.+0.j, 0.+0.j, 0.+0.j]])"
      ]
     },
     "execution_count": 29,
     "metadata": {},
     "output_type": "execute_result"
    }
   ],
   "source": [
    "S @ so31.K2 - vector_rep(so31.K2) @ S"
   ]
  },
  {
   "cell_type": "code",
   "execution_count": 42,
   "metadata": {},
   "outputs": [
    {
     "data": {
      "text/plain": [
       "array([[ 0.-0.j,  1.+0.j,  0.-1.j,  0.+0.j],\n",
       "       [ 1.+0.j, -0.+0.j,  0.+0.j, -1.+0.j],\n",
       "       [-1.+0.j, -0.+0.j,  0.+0.j, -1.+0.j],\n",
       "       [ 0.+0.j, -1.+0.j,  0.-1.j, -0.+0.j]])"
      ]
     },
     "execution_count": 42,
     "metadata": {},
     "output_type": "execute_result"
    }
   ],
   "source": [
    "elts = [so31.J1, so31.K2, so31.K1]\n",
    "rep = [vector_rep(e) for e in elts]\n",
    "S_alt = solve_equivalence(elts, rep).round(4)[0]\n",
    "S_alt /= S_alt.ravel()[np.abs(S_alt).argmax()]\n",
    "S_alt"
   ]
  }
 ],
 "metadata": {
  "kernelspec": {
   "display_name": "ml",
   "language": "python",
   "name": "python3"
  },
  "language_info": {
   "codemirror_mode": {
    "name": "ipython",
    "version": 3
   },
   "file_extension": ".py",
   "mimetype": "text/x-python",
   "name": "python",
   "nbconvert_exporter": "python",
   "pygments_lexer": "ipython3",
   "version": "3.11.4"
  }
 },
 "nbformat": 4,
 "nbformat_minor": 2
}
