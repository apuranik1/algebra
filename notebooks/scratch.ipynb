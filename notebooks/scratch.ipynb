{
 "cells": [
  {
   "cell_type": "code",
   "execution_count": 1,
   "metadata": {},
   "outputs": [],
   "source": [
    "import numpy as np\n",
    "from scipy.linalg import null_space\n",
    "\n",
    "from lie_groups.types import MatrixLieAlgElt\n",
    "from lie_groups import killing, su2, so3, sun\n",
    "from lie_groups.representations import adjoint_matrices\n",
    "from lie_groups.util import orth_complement"
   ]
  },
  {
   "cell_type": "code",
   "execution_count": 2,
   "metadata": {},
   "outputs": [],
   "source": [
    "def cartan_subalgebra(adjoint_rep: list[np.ndarray]) -> list[np.ndarray]:\n",
    "    # stack adjoint mats along last axis so we can take linear combinations easily\n",
    "    adj_matrices = np.stack(adjoint_rep, axis=-1)\n",
    "    dim = adj_matrices.shape[0]\n",
    "    if dim == 0:\n",
    "        return []\n",
    "    # start with [1, 0, ...] as element of subalgebra\n",
    "    first_subalg_vec = np.array([1.0] + [0.0] * (dim - 1))\n",
    "    subalg_vecs = [first_subalg_vec]\n",
    "    while True:\n",
    "        subalg_matrix = np.stack(subalg_vecs, axis=1)\n",
    "        subalg_adjoints = adj_matrices @ subalg_matrix  # (dim, dim, len(subalg))\n",
    "        stacked_adjoint_matrix = np.moveaxis(subalg_adjoints, -1, 0).reshape(len(subalg_vecs) * dim, dim)\n",
    "        ns = null_space(stacked_adjoint_matrix, rcond=1e-10)\n",
    "        # find a null vector outside the span of subalg_vecs\n",
    "        new_ns = orth_complement(ns, subalg_matrix)\n",
    "        if new_ns.shape[1] > 0:\n",
    "            subalg_vecs.append(new_ns[:, 0])\n",
    "        else:\n",
    "            break\n",
    "    return subalg_vecs"
   ]
  },
  {
   "cell_type": "code",
   "execution_count": 3,
   "metadata": {},
   "outputs": [],
   "source": [
    "basis = sun.su4.basis()"
   ]
  },
  {
   "cell_type": "code",
   "execution_count": 4,
   "metadata": {},
   "outputs": [],
   "source": [
    "rep_matrices = adjoint_matrices(basis)"
   ]
  },
  {
   "cell_type": "code",
   "execution_count": 6,
   "metadata": {},
   "outputs": [
    {
     "data": {
      "text/plain": [
       "[array([1., 0., 0., 0., 0., 0., 0., 0., 0., 0., 0., 0., 0., 0., 0.]),\n",
       " array([-0.     , -0.     , -0.946  ,  0.     , -0.     ,  0.     ,\n",
       "         0.     , -0.29656,  0.1309 , -0.     , -0.     , -0.     ,\n",
       "         0.     ,  0.     ,  0.     ]),\n",
       " array([ 0.     ,  0.95127,  0.09996, -0.     , -0.     ,  0.     ,\n",
       "        -0.     , -0.26687,  0.1178 , -0.     ,  0.     ,  0.     ,\n",
       "        -0.     , -0.     ,  0.     ])]"
      ]
     },
     "execution_count": 6,
     "metadata": {},
     "output_type": "execute_result"
    }
   ],
   "source": [
    "[np.round(a, 5) for a in cartan_subalgebra(rep_matrices)]"
   ]
  },
  {
   "cell_type": "code",
   "execution_count": 4,
   "metadata": {},
   "outputs": [
    {
     "data": {
      "text/plain": [
       "array([[ 0.00000000e+00,  0.00000000e+00,  0.00000000e+00,\n",
       "         0.00000000e+00,  0.00000000e+00,  0.00000000e+00,\n",
       "         0.00000000e+00,  0.00000000e+00],\n",
       "       [ 0.00000000e+00,  0.00000000e+00,  0.00000000e+00,\n",
       "         0.00000000e+00,  0.00000000e+00,  0.00000000e+00,\n",
       "         0.00000000e+00,  0.00000000e+00],\n",
       "       [ 0.00000000e+00,  0.00000000e+00,  0.00000000e+00,\n",
       "        -1.00000000e+00,  0.00000000e+00,  0.00000000e+00,\n",
       "         0.00000000e+00,  0.00000000e+00],\n",
       "       [ 0.00000000e+00,  0.00000000e+00,  1.00000000e+00,\n",
       "         0.00000000e+00,  0.00000000e+00,  7.85046229e-17,\n",
       "         0.00000000e+00,  0.00000000e+00],\n",
       "       [ 0.00000000e+00,  0.00000000e+00,  5.52485648e-17,\n",
       "         0.00000000e+00, -2.22044605e-16, -2.00000000e+00,\n",
       "         0.00000000e+00,  0.00000000e+00],\n",
       "       [ 0.00000000e+00,  0.00000000e+00,  1.63755519e-16,\n",
       "         0.00000000e+00,  2.00000000e+00, -3.88578059e-16,\n",
       "         0.00000000e+00,  0.00000000e+00],\n",
       "       [ 0.00000000e+00,  0.00000000e+00,  2.41911047e-48,\n",
       "         0.00000000e+00,  1.92054634e-16,  1.11439778e-16,\n",
       "         0.00000000e+00, -1.00000000e+00],\n",
       "       [ 0.00000000e+00,  0.00000000e+00, -2.41911047e-49,\n",
       "         0.00000000e+00,  1.11439778e-16, -1.92054634e-16,\n",
       "         1.00000000e+00, -3.90853027e-17]])"
      ]
     },
     "execution_count": 4,
     "metadata": {},
     "output_type": "execute_result"
    }
   ],
   "source": [
    "[np.round()]"
   ]
  },
  {
   "cell_type": "code",
   "execution_count": 6,
   "metadata": {},
   "outputs": [
    {
     "data": {
      "text/plain": [
       "array([[0., 1.],\n",
       "       [1., 0.],\n",
       "       [0., 0.],\n",
       "       [0., 0.],\n",
       "       [0., 0.],\n",
       "       [0., 0.],\n",
       "       [0., 0.],\n",
       "       [0., 0.]])"
      ]
     },
     "execution_count": 6,
     "metadata": {},
     "output_type": "execute_result"
    }
   ],
   "source": [
    "null_space(rep_matrices[0])"
   ]
  },
  {
   "cell_type": "code",
   "execution_count": null,
   "metadata": {},
   "outputs": [],
   "source": []
  },
  {
   "cell_type": "code",
   "execution_count": 2,
   "metadata": {},
   "outputs": [
    {
     "name": "stdout",
     "output_type": "stream",
     "text": [
      "[[ 0.  0.  0.]\n",
      " [ 0.  0. -1.]\n",
      " [ 0.  1.  0.]]\n",
      "[[ 0.  0.  1.]\n",
      " [-0.  0.  0.]\n",
      " [-1.  0.  0.]]\n",
      "[[ 0. -1.  0.]\n",
      " [ 1.  0.  0.]\n",
      " [ 0.  0.  0.]]\n"
     ]
    }
   ],
   "source": [
    "basis = [su2.LieAlgElt(su2.S(i)) for i in range(1, 4)]\n",
    "adj = adjoint_matrices(basis)\n",
    "for mat in adj:\n",
    "    print(np.round(mat, 4))"
   ]
  },
  {
   "cell_type": "code",
   "execution_count": 3,
   "metadata": {},
   "outputs": [
    {
     "data": {
      "text/plain": [
       "array([[-2.00000000e+00,  0.00000000e+00,  0.00000000e+00],\n",
       "       [ 0.00000000e+00, -2.00000000e+00,  1.57009246e-16],\n",
       "       [ 0.00000000e+00,  1.57009246e-16, -2.00000000e+00]])"
      ]
     },
     "execution_count": 3,
     "metadata": {},
     "output_type": "execute_result"
    }
   ],
   "source": [
    "killing.killing_form(basis)"
   ]
  },
  {
   "cell_type": "code",
   "execution_count": 1,
   "metadata": {},
   "outputs": [],
   "source": [
    "import numpy as np\n",
    "from lie_groups import su2, so31\n",
    "from lie_groups.util import comm"
   ]
  },
  {
   "cell_type": "code",
   "execution_count": 95,
   "metadata": {},
   "outputs": [],
   "source": [
    "import matplotlib as mpl"
   ]
  },
  {
   "cell_type": "code",
   "execution_count": null,
   "metadata": {},
   "outputs": [],
   "source": [
    "\n",
    "import matplotlib.pyplot as plt"
   ]
  },
  {
   "cell_type": "code",
   "execution_count": 145,
   "metadata": {},
   "outputs": [],
   "source": []
  },
  {
   "cell_type": "code",
   "execution_count": 146,
   "metadata": {},
   "outputs": [
    {
     "data": {
      "text/plain": [
       "array([[0.+0.j, 0.+0.j, 0.+0.j, 0.+0.j],\n",
       "       [0.+0.j, 0.+0.j, 0.+0.j, 0.+0.j],\n",
       "       [0.+0.j, 0.+0.j, 0.+0.j, 0.+0.j],\n",
       "       [0.+0.j, 0.+0.j, 0.+0.j, 0.+0.j]])"
      ]
     },
     "execution_count": 146,
     "metadata": {},
     "output_type": "execute_result"
    }
   ],
   "source": [
    "comm(so31.Jp(1), so31.Jp(2)) - so31.Jp(3)"
   ]
  },
  {
   "cell_type": "code",
   "execution_count": 147,
   "metadata": {},
   "outputs": [
    {
     "data": {
      "text/plain": [
       "array([[0.+0.j, 0.+0.j, 0.+0.j, 0.+0.j],\n",
       "       [0.+0.j, 0.+0.j, 0.+0.j, 0.+0.j],\n",
       "       [0.+0.j, 0.+0.j, 0.+0.j, 0.+0.j],\n",
       "       [0.+0.j, 0.+0.j, 0.+0.j, 0.+0.j]])"
      ]
     },
     "execution_count": 147,
     "metadata": {},
     "output_type": "execute_result"
    }
   ],
   "source": [
    "comm(so31.Jp(1), so31.Jm(2))"
   ]
  },
  {
   "cell_type": "code",
   "execution_count": 148,
   "metadata": {},
   "outputs": [],
   "source": [
    "def proj(X, e):\n",
    "    return (e.conj() * X).sum() / (e.conj() * e).sum()"
   ]
  },
  {
   "cell_type": "code",
   "execution_count": 149,
   "metadata": {},
   "outputs": [],
   "source": [
    "def vector_rep(X):\n",
    "    \"\"\"(1/2, 1/2) rep of so(3, 1)\"\"\"\n",
    "    def proj(X, e):\n",
    "        return (e.conj() * X).sum() / (e.conj() * e).sum()\n",
    "\n",
    "    basis_in = []\n",
    "    basis_out = []\n",
    "    for i in range(1, 4):\n",
    "        basis_in.append(so31.Jp(i))\n",
    "        basis_out.append(np.kron(su2.S(i), np.eye(2)))\n",
    "        basis_in.append(so31.Jm(i))\n",
    "        basis_out.append(np.kron(np.eye(2), su2.S(i)))\n",
    "\n",
    "    coefs = [proj(X, e) for e in basis_in]\n",
    "    return np.sum([c * e for c, e in zip(coefs, basis_out)], axis=0)\n"
   ]
  },
  {
   "cell_type": "code",
   "execution_count": 150,
   "metadata": {},
   "outputs": [
    {
     "data": {
      "text/plain": [
       "array([[0.+0.j , 0.-0.5j, 0.-0.5j, 0.+0.j ],\n",
       "       [0.-0.5j, 0.+0.j , 0.+0.j , 0.-0.5j],\n",
       "       [0.-0.5j, 0.+0.j , 0.+0.j , 0.-0.5j],\n",
       "       [0.+0.j , 0.-0.5j, 0.-0.5j, 0.+0.j ]])"
      ]
     },
     "execution_count": 150,
     "metadata": {},
     "output_type": "execute_result"
    }
   ],
   "source": [
    "vector_rep(so31.J1)"
   ]
  },
  {
   "cell_type": "code",
   "execution_count": 151,
   "metadata": {},
   "outputs": [
    {
     "data": {
      "text/plain": [
       "array([[0.-1.j, 0.+0.j, 0.+0.j, 0.+0.j],\n",
       "       [0.+0.j, 0.+0.j, 0.+0.j, 0.+0.j],\n",
       "       [0.+0.j, 0.+0.j, 0.+0.j, 0.+0.j],\n",
       "       [0.+0.j, 0.+0.j, 0.+0.j, 0.+1.j]])"
      ]
     },
     "execution_count": 151,
     "metadata": {},
     "output_type": "execute_result"
    }
   ],
   "source": [
    "vector_rep(so31.J3)"
   ]
  },
  {
   "cell_type": "code",
   "execution_count": 152,
   "metadata": {},
   "outputs": [],
   "source": []
  },
  {
   "cell_type": "code",
   "execution_count": 153,
   "metadata": {},
   "outputs": [
    {
     "data": {
      "text/plain": [
       "array([[ 0.        +0.j        ,  0.70710678+0.j        ,\n",
       "         0.        -0.70710678j,  0.        +0.j        ],\n",
       "       [ 0.70710678+0.j        ,  0.        +0.j        ,\n",
       "         0.        +0.j        , -0.70710678+0.j        ],\n",
       "       [-0.70710678+0.j        ,  0.        -0.j        ,\n",
       "         0.        +0.j        , -0.70710678+0.j        ],\n",
       "       [ 0.        -0.j        , -0.70710678+0.j        ,\n",
       "         0.        -0.70710678j,  0.        +0.j        ]])"
      ]
     },
     "metadata": {},
     "output_type": "display_data"
    }
   ],
   "source": [
    "elts = [so31.J1, so31.J2, so31.K1]\n",
    "rep = [vector_rep(e) for e in elts]\n",
    "S = solve_equivalence(elts, rep).round(4)[0]\n",
    "S = canonicalize(S)\n",
    "display(S)"
   ]
  },
  {
   "cell_type": "code",
   "execution_count": 263,
   "metadata": {},
   "outputs": [],
   "source": [
    "from skimage import color\n",
    "\n",
    "def lch2rgb(L, C, h):\n",
    "    return color.lab2rgb(color.lch2lab(np.stack([L, C, h], axis=-1)))\n",
    "\n",
    "def complex_colors(z: np.ndarray):\n",
    "    \"\"\"Display a complex matrix as a generalizd heatmap.\n",
    "\n",
    "    The argument is encoded cyclically via the hue, and the norm is\n",
    "    encoded via lightness (and chroma, a little).\n",
    "\n",
    "    Uses CIELCH for perceptual uniformity.\n",
    "    \"\"\"\n",
    "    r = np.abs(z)\n",
    "    arg = np.angle(z) \n",
    "\n",
    "    h = arg + np.pi\n",
    "    l = 100 * (1.0 - 1.0/(1.0 + r ** 0.5))\n",
    "    # c = np.full_like(r, 30.)\n",
    "    c = (l / 100) ** 0.1 * 30.\n",
    "\n",
    "    colors = lch2rgb(l, c, h)\n",
    "    return colors\n",
    "\n",
    "def complex_heatmap(matrix, ax=None):\n",
    "    if ax is None:\n",
    "        _fig, ax = plt.subplots()\n",
    "    im = ax.imshow(complex_colors(matrix))\n",
    "    ax.set_xticks([])\n",
    "    ax.set_yticks([])\n",
    "    for i in range(matrix.shape[0]):\n",
    "        for j in range(matrix.shape[1]):\n",
    "            text = ax.text(j, i, f\"{matrix[i, j]:.2f}\", ha=\"center\", va=\"center\", color=\"w\")"
   ]
  },
  {
   "cell_type": "code",
   "execution_count": 264,
   "metadata": {},
   "outputs": [
    {
     "data": {
      "image/png": "[encoded data removed]",
      "text/plain": [
       "<Figure size 2200x500 with 4 Axes>"
      ]
     },
     "metadata": {},
     "output_type": "display_data"
    }
   ],
   "source": [
    "fig, ax = plt.subplots(1, 4, figsize=(22, 5))\n",
    "for mat, ax in zip([S, -S, S * 3, S / 3], ax):\n",
    "    complex_heatmap(mat, ax=ax)"
   ]
  },
  {
   "cell_type": "code",
   "execution_count": 250,
   "metadata": {},
   "outputs": [
    {
     "data": {
      "image/png": "[encoded data removed]",
      "text/plain": [
       "<Figure size 640x480 with 1 Axes>"
      ]
     },
     "metadata": {},
     "output_type": "display_data"
    }
   ],
   "source": [
    "complex_heatmap(S * 5)"
   ]
  },
  {
   "cell_type": "code",
   "execution_count": 74,
   "metadata": {},
   "outputs": [
    {
     "data": {
      "text/plain": [
       "array([[1.+0.j, 0.+0.j, 0.+0.j, 0.+0.j],\n",
       "       [0.+0.j, 1.+0.j, 0.+0.j, 0.+0.j],\n",
       "       [0.+0.j, 0.+0.j, 1.+0.j, 0.+0.j],\n",
       "       [0.+0.j, 0.+0.j, 0.+0.j, 1.+0.j]])"
      ]
     },
     "execution_count": 74,
     "metadata": {},
     "output_type": "execute_result"
    }
   ],
   "source": [
    "S @ S.conj().T"
   ]
  },
  {
   "cell_type": "code",
   "execution_count": 66,
   "metadata": {},
   "outputs": [
    {
     "data": {
      "text/plain": [
       "array([[ 0. +0.j ,  0.5+0.j , -0.5+0.j ,  0. +0.j ],\n",
       "       [ 0.5+0.j ,  0. +0.j ,  0. +0.j , -0.5+0.j ],\n",
       "       [ 0. +0.5j,  0. +0.j ,  0. +0.j ,  0. +0.5j],\n",
       "       [ 0. -0.j , -0.5-0.j , -0.5-0.j ,  0. -0.j ]])"
      ]
     },
     "execution_count": 66,
     "metadata": {},
     "output_type": "execute_result"
    }
   ],
   "source": [
    "np.linalg.inv(S)"
   ]
  },
  {
   "cell_type": "code",
   "execution_count": 29,
   "metadata": {},
   "outputs": [
    {
     "data": {
      "text/plain": [
       "array([[0.+0.j, 0.+0.j, 0.+0.j, 0.+0.j],\n",
       "       [0.+0.j, 0.+0.j, 0.+0.j, 0.+0.j],\n",
       "       [0.+0.j, 0.+0.j, 0.+0.j, 0.+0.j],\n",
       "       [0.+0.j, 0.+0.j, 0.+0.j, 0.+0.j]])"
      ]
     },
     "execution_count": 29,
     "metadata": {},
     "output_type": "execute_result"
    }
   ],
   "source": [
    "S @ so31.K2 - vector_rep(so31.K2) @ S"
   ]
  },
  {
   "cell_type": "code",
   "execution_count": 42,
   "metadata": {},
   "outputs": [
    {
     "data": {
      "text/plain": [
       "array([[ 0.-0.j,  1.+0.j,  0.-1.j,  0.+0.j],\n",
       "       [ 1.+0.j, -0.+0.j,  0.+0.j, -1.+0.j],\n",
       "       [-1.+0.j, -0.+0.j,  0.+0.j, -1.+0.j],\n",
       "       [ 0.+0.j, -1.+0.j,  0.-1.j, -0.+0.j]])"
      ]
     },
     "execution_count": 42,
     "metadata": {},
     "output_type": "execute_result"
    }
   ],
   "source": [
    "elts = [so31.J1, so31.K2, so31.K1]\n",
    "rep = [vector_rep(e) for e in elts]\n",
    "S_alt = solve_equivalence(elts, rep).round(4)[0]\n",
    "S_alt /= S_alt.ravel()[np.abs(S_alt).argmax()]\n",
    "S_alt"
   ]
  },
  {
   "cell_type": "code",
   "execution_count": null,
   "metadata": {},
   "outputs": [],
   "source": []
  },
  {
   "cell_type": "code",
   "execution_count": 43,
   "metadata": {},
   "outputs": [],
   "source": [
    "spin1 = su2.alg_rep(3)"
   ]
  },
  {
   "cell_type": "code",
   "execution_count": 47,
   "metadata": {},
   "outputs": [],
   "source": [
    "C = [spin1(su2.LieAlgElt(su2.S(i))) for i in range(1, 4)]"
   ]
  },
  {
   "cell_type": "code",
   "execution_count": 48,
   "metadata": {},
   "outputs": [
    {
     "data": {
      "text/plain": [
       "array([[0.-1.j, 0.+0.j, 0.+0.j],\n",
       "       [0.+0.j, 0.+0.j, 0.+0.j],\n",
       "       [0.+0.j, 0.+0.j, 0.+1.j]])"
      ]
     },
     "execution_count": 48,
     "metadata": {},
     "output_type": "execute_result"
    }
   ],
   "source": [
    "comm(C[0], C[1])"
   ]
  },
  {
   "cell_type": "code",
   "execution_count": 49,
   "metadata": {},
   "outputs": [
    {
     "data": {
      "text/plain": [
       "array([[0.-1.j, 0.+0.j, 0.+0.j],\n",
       "       [0.+0.j, 0.+0.j, 0.+0.j],\n",
       "       [0.+0.j, 0.+0.j, 0.+1.j]])"
      ]
     },
     "execution_count": 49,
     "metadata": {},
     "output_type": "execute_result"
    }
   ],
   "source": [
    "C[2]"
   ]
  },
  {
   "cell_type": "code",
   "execution_count": 50,
   "metadata": {},
   "outputs": [
    {
     "data": {
      "text/plain": [
       "array([[0.+0.j , 0.-1.j , 0.+0.j ],\n",
       "       [0.-0.5j, 0.+0.j , 0.-0.5j],\n",
       "       [0.+0.j , 0.-1.j , 0.+0.j ]])"
      ]
     },
     "execution_count": 50,
     "metadata": {},
     "output_type": "execute_result"
    }
   ],
   "source": [
    "C[0]"
   ]
  },
  {
   "cell_type": "code",
   "execution_count": 51,
   "metadata": {},
   "outputs": [
    {
     "data": {
      "text/plain": [
       "array([[ 0. +0.j, -1. +0.j,  0. +0.j],\n",
       "       [ 0.5+0.j,  0. +0.j, -0.5+0.j],\n",
       "       [ 0. +0.j,  1. +0.j,  0. +0.j]])"
      ]
     },
     "execution_count": 51,
     "metadata": {},
     "output_type": "execute_result"
    }
   ],
   "source": [
    "C[1]"
   ]
  },
  {
   "cell_type": "code",
   "execution_count": 52,
   "metadata": {},
   "outputs": [
    {
     "data": {
      "text/plain": [
       "array([[0.-1.j, 0.+0.j, 0.+0.j],\n",
       "       [0.+0.j, 0.+0.j, 0.+0.j],\n",
       "       [0.+0.j, 0.+0.j, 0.+1.j]])"
      ]
     },
     "execution_count": 52,
     "metadata": {},
     "output_type": "execute_result"
    }
   ],
   "source": [
    "C[2]"
   ]
  },
  {
   "cell_type": "code",
   "execution_count": null,
   "metadata": {},
   "outputs": [],
   "source": []
  }
 ],
 "metadata": {
  "kernelspec": {
   "display_name": "ml",
   "language": "python",
   "name": "python3"
  },
  "language_info": {
   "codemirror_mode": {
    "name": "ipython",
    "version": 3
   },
   "file_extension": ".py",
   "mimetype": "text/x-python",
   "name": "python",
   "nbconvert_exporter": "python",
   "pygments_lexer": "ipython3",
   "version": "3.11.5"
  }
 },
 "nbformat": 4,
 "nbformat_minor": 2
}
